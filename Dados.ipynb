{
  "nbformat": 4,
  "nbformat_minor": 0,
  "metadata": {
    "colab": {
      "name": "Ejercicio_Dados.ipynb",
      "provenance": [],
      "collapsed_sections": [],
      "include_colab_link": true
    },
    "kernelspec": {
      "display_name": "Python 3",
      "name": "python3"
    },
    "language_info": {
      "name": "python"
    }
  },
  "cells": [
    {
      "cell_type": "markdown",
      "metadata": {
        "id": "view-in-github",
        "colab_type": "text"
      },
      "source": [
        "<a href=\"https://colab.research.google.com/github/camilogs1/Modeling_of-system/blob/main/Dados.ipynb\" target=\"_parent\"><img src=\"https://colab.research.google.com/assets/colab-badge.svg\" alt=\"Open In Colab\"/></a>"
      ]
    },
    {
      "cell_type": "markdown",
      "metadata": {
        "id": "foIQRikMRO_C"
      },
      "source": [
        "# Ejercicio dados"
      ]
    },
    {
      "cell_type": "code",
      "source": [
        "#Generamos la interacción con el usuario\n",
        "N=int(input('Ingrese el número de dados: '))\n",
        "print('Su resultado estará entre',N,' y ',N*6)\n",
        "\n",
        "#Calculamos las posibles combinaciones\n",
        "Combinaciones=6**N\n",
        "print('El número de combinaciones es: ',Combinaciones)\n",
        "import numpy as np\n",
        "Matriz=np.zeros([Combinaciones,N])\n",
        "\n",
        "#Calculamos los pesos para la combinatoria\n",
        "Pesos=np.zeros([N])\n",
        "for i in range(0,N):\n",
        "  Pesos[i]=int(6**i)\n",
        "\n",
        "#Llenamos la matriz con las posibles combinaciones\n",
        "for j in range(N):\n",
        "  contador =0\n",
        "  Valor=Pesos[j]\n",
        "  while contador<6**N:\n",
        "      for p in range(6):\n",
        "        for k in range(int(Valor)):\n",
        "          Matriz[contador,j]=p+1\n",
        "          contador=contador+1\n",
        "cf=0\n",
        "Target=int(input('Ingrese el número de interés: '))\n",
        "for l in Matriz:\n",
        "    if (sum(l) == Target):\n",
        "      cf = cf + 1 \n",
        "\n",
        "proba = (cf/Combinaciones)\n",
        "print(\"La probabilidad de sacar \", Target, \" Es igual al \",proba)\n",
        "print(cf)"
      ],
      "metadata": {
        "colab": {
          "base_uri": "https://localhost:8080/"
        },
        "id": "rz_AOF7JMFxt",
        "outputId": "5d55bcca-acad-412d-ac0a-82fd4483043b"
      },
      "execution_count": null,
      "outputs": [
        {
          "output_type": "stream",
          "name": "stdout",
          "text": [
            "Ingrese el número de dados: 2\n",
            "Su resultado estará entre 2  y  12\n",
            "El número de combinaciones es:  36\n",
            "Ingrese el número de interés: 2\n",
            "La probabilidad de sacar  2  Es igual al  0.027777777777777776\n",
            "1\n"
          ]
        }
      ]
    },
    {
      "cell_type": "code",
      "source": [
        "#Grafica\n",
        "Min = N\n",
        "Max = N*6\n",
        "i=Min\n",
        "j=Max\n",
        "sep = (Max - Min)+1\n",
        "graf=np.zeros([sep,1])\n",
        "q = 0\n",
        "while(Min <= Max):\n",
        "  ct=0\n",
        "  for l in Matriz:\n",
        "    if (sum(l) == Min):\n",
        "      ct +=1 \n",
        "  #Probabilidad\n",
        "  prob = (ct/Combinaciones)\n",
        "  #Añadir al np\n",
        "  graf[q]=prob\n",
        "  q+=1\n",
        "  Min+=1\n",
        "graf = graf.flatten().tolist()\n",
        "\n",
        "dados=np.zeros([sep,1])\n",
        "\n",
        "p=0\n",
        "while(i <= j):\n",
        "  dados[p]=i\n",
        "  p+=1\n",
        "  i+=1\n",
        "dados = dados.flatten().tolist()"
      ],
      "metadata": {
        "id": "sKKpoyzaZ5M1"
      },
      "execution_count": null,
      "outputs": []
    },
    {
      "cell_type": "code",
      "source": [
        "import matplotlib.pyplot as plt\n",
        "fig, ax = plt.subplots()\n",
        "ax.plot(dados, graf, 'bo')\n",
        "ax.vlines(dados, 0, graf, colors='b', lw=5, alpha=0.5)\n",
        "plt.title('Distribución de probabilidades')\n",
        "plt.ylabel('probabilidad')\n",
        "plt.xlabel('Resultados')\n",
        "plt.show()"
      ],
      "metadata": {
        "colab": {
          "base_uri": "https://localhost:8080/",
          "height": 295
        },
        "id": "l18_hEU4arcP",
        "outputId": "5cc4b2f7-a8b6-4619-982c-4804b8214f9a"
      },
      "execution_count": null,
      "outputs": [
        {
          "output_type": "display_data",
          "data": {
            "text/plain": [
              "<Figure size 432x288 with 1 Axes>"
            ],
            "image/png": "[encoded data removed]"
          },
          "metadata": {
            "needs_background": "light"
          }
        }
      ]
    }
  ]
}